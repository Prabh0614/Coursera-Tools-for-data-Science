{
  "metadata": {
    "kernelspec": {
      "name": "python",
      "display_name": "Python (Pyodide)",
      "language": "python"
    },
    "language_info": {
      "codemirror_mode": {
        "name": "python",
        "version": 3
      },
      "file_extension": ".py",
      "mimetype": "text/x-python",
      "name": "python",
      "nbconvert_exporter": "python",
      "pygments_lexer": "ipython3",
      "version": "3.8"
    }
  },
  "nbformat_minor": 4,
  "nbformat": 4,
  "cells": [
    {
      "cell_type": "markdown",
      "source": "# Data Science Basics: A Practical Introduction\n",
      "metadata": {}
    },
    {
      "cell_type": "markdown",
      "source": "## Introduction\n\nThis notebook serves as an introductory guide to fundamental concepts in data science. It covers essential data science languages, libraries, and tools. Additionally, it demonstrates basic arithmetic operations through simple Python code examples. The goal is to familiarize beginners with the foundational components needed to start working with data science projects.\n\n",
      "metadata": {}
    },
    {
      "cell_type": "markdown",
      "source": "Some of the popular languages that Data Scientists use are:\n1. Python\n2. R\n3. SQL\n4. C++\n5. Java\n6. MATLAB\n7. Julia\n8. Scala etc..;",
      "metadata": {}
    },
    {
      "cell_type": "markdown",
      "source": "S## Data Science Libraries\n\n- NumPy  \n- Pandas  \n- Matplotlib  \n- Seaborn  \n- Scikit-learn  \n- TensorFlow  \n- Keras  \n- PyTorch  \n",
      "metadata": {}
    },
    {
      "cell_type": "markdown",
      "source": "## Data Science Tools\n\n| Tool            | Description                       |\n|-----------------|---------------------------------|\n| Jupyter Notebook| Interactive coding environment   |\n| Anaconda        | Python and R distribution        |\n| Tableau         | Data visualization software      |\n| Power BI        | Business analytics tool          |\n| GitHub          | Version control and collaboration|\n| Apache Spark    | Big data processing engine       |\n",
      "metadata": {}
    },
    {
      "cell_type": "markdown",
      "source": "### Below are a few examples of evaluating arithmetic expressions in Python.",
      "metadata": {}
    },
    {
      "cell_type": "code",
      "source": "# Multiply 5 and 7, then add 10\nresult = 5 * 7 + 10\nprint(\"Result of 5 * 7 + 10 =\", result)\n",
      "metadata": {
        "trusted": true
      },
      "outputs": [
        {
          "name": "stdout",
          "output_type": "stream",
          "text": "Result of 5 * 7 + 10 = 45\n"
        }
      ],
      "execution_count": 1
    },
    {
      "cell_type": "code",
      "source": "# Convert 135 minutes to hours\nminutes = 135\nhours = minutes / 60\nprint(f\"{minutes} minutes is equal to {hours} hours.\")\n",
      "metadata": {
        "trusted": true
      },
      "outputs": [
        {
          "name": "stdout",
          "output_type": "stream",
          "text": "135 minutes is equal to 2.25 hours.\n"
        }
      ],
      "execution_count": 2
    },
    {
      "cell_type": "markdown",
      "source": "## Objectives\n\n- Understand key data science languages and libraries  \n- Learn about common data science tools  \n- Practice basic arithmetic operations in Python  \n- Gain familiarity with Jupyter Notebook environment  \n",
      "metadata": {}
    },
    {
      "cell_type": "markdown",
      "source": "## Author\nPrabhnoor Singh",
      "metadata": {}
    }
  ]
}